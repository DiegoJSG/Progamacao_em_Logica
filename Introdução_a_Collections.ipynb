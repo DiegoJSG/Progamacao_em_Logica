{
  "nbformat": 4,
  "nbformat_minor": 0,
  "metadata": {
    "colab": {
      "provenance": [],
      "authorship_tag": "ABX9TyPuKM4nesRl7nblEVFAOgBq",
      "include_colab_link": true
    },
    "kernelspec": {
      "name": "python3",
      "display_name": "Python 3"
    },
    "language_info": {
      "name": "python"
    }
  },
  "cells": [
    {
      "cell_type": "markdown",
      "metadata": {
        "id": "view-in-github",
        "colab_type": "text"
      },
      "source": [
        "<a href=\"https://colab.research.google.com/github/DiegoJSG/Progamacao_em_Logica/blob/main/Introdu%C3%A7%C3%A3o_a_Collections.ipynb\" target=\"_parent\"><img src=\"https://colab.research.google.com/assets/colab-badge.svg\" alt=\"Open In Colab\"/></a>"
      ]
    },
    {
      "cell_type": "code",
      "source": [
        "idade1 = 39\n",
        "idade2 = 30\n",
        "idade3 = 27\n",
        "\n",
        "print(idade1)\n",
        "print(idade2)\n",
        "print(idade3)\n"
      ],
      "metadata": {
        "colab": {
          "base_uri": "https://localhost:8080/"
        },
        "id": "q8T9FakgJAaz",
        "outputId": "7c41d03c-81f7-4e23-f083-ea344ba00ec4"
      },
      "execution_count": null,
      "outputs": [
        {
          "output_type": "stream",
          "name": "stdout",
          "text": [
            "39\n",
            "30\n",
            "27\n"
          ]
        }
      ]
    },
    {
      "cell_type": "code",
      "source": [
        "idades = [39, 30, 27]"
      ],
      "metadata": {
        "id": "obgbL0G4KUl9"
      },
      "execution_count": null,
      "outputs": []
    },
    {
      "cell_type": "code",
      "source": [
        "type(idades)"
      ],
      "metadata": {
        "colab": {
          "base_uri": "https://localhost:8080/"
        },
        "id": "2fK2QW5pKZAy",
        "outputId": "ea9fbeab-865e-472d-fcc4-44550426bcf4"
      },
      "execution_count": null,
      "outputs": [
        {
          "output_type": "execute_result",
          "data": {
            "text/plain": [
              "list"
            ]
          },
          "metadata": {},
          "execution_count": 6
        }
      ]
    },
    {
      "cell_type": "code",
      "source": [
        "len(idades)\n"
      ],
      "metadata": {
        "colab": {
          "base_uri": "https://localhost:8080/"
        },
        "id": "ZJ6mOKYDKg_A",
        "outputId": "27717b0a-6e01-4f7a-e694-0cd921a6225c"
      },
      "execution_count": null,
      "outputs": [
        {
          "output_type": "execute_result",
          "data": {
            "text/plain": [
              "3"
            ]
          },
          "metadata": {},
          "execution_count": 7
        }
      ]
    },
    {
      "cell_type": "code",
      "source": [
        "24 in idades"
      ],
      "metadata": {
        "colab": {
          "base_uri": "https://localhost:8080/"
        },
        "id": "6YtEHD3AMm5N",
        "outputId": "153905f7-f91b-44bf-f827-de0cd95d660f"
      },
      "execution_count": null,
      "outputs": [
        {
          "output_type": "execute_result",
          "data": {
            "text/plain": [
              "False"
            ]
          },
          "metadata": {},
          "execution_count": 8
        }
      ]
    },
    {
      "cell_type": "code",
      "source": [
        "idades.insert(2,18)\n",
        "idades\n"
      ],
      "metadata": {
        "colab": {
          "base_uri": "https://localhost:8080/"
        },
        "id": "wCXuOxAqNm2a",
        "outputId": "b9741e80-16c2-4db0-a9e6-b959fd765295"
      },
      "execution_count": null,
      "outputs": [
        {
          "output_type": "execute_result",
          "data": {
            "text/plain": [
              "[39, 30, 18, 27]"
            ]
          },
          "metadata": {},
          "execution_count": 9
        }
      ]
    },
    {
      "cell_type": "code",
      "source": [
        "idades.extend([31,26])\n",
        "idades\n"
      ],
      "metadata": {
        "colab": {
          "base_uri": "https://localhost:8080/"
        },
        "id": "sBsTeo94POR8",
        "outputId": "a1993a8c-ac21-4289-f7e3-3dcfbcfce663"
      },
      "execution_count": null,
      "outputs": [
        {
          "output_type": "execute_result",
          "data": {
            "text/plain": [
              "[39, 30, 18, 27, 31, 26]"
            ]
          },
          "metadata": {},
          "execution_count": 11
        }
      ]
    },
    {
      "cell_type": "code",
      "source": [
        "idades.extend([\"diego\"])\n",
        "idades"
      ],
      "metadata": {
        "colab": {
          "base_uri": "https://localhost:8080/"
        },
        "id": "IUvwCKPcPmpf",
        "outputId": "a1123dfc-776c-451f-f21d-3d271e3fdc45"
      },
      "execution_count": null,
      "outputs": [
        {
          "output_type": "execute_result",
          "data": {
            "text/plain": [
              "[39, 30, 18, 27, 31, 26, 'diego']"
            ]
          },
          "metadata": {},
          "execution_count": 13
        }
      ]
    },
    {
      "cell_type": "code",
      "source": [
        "class ContaCorrente:\n",
        "\n",
        "  def __init__(self, codigo):\n",
        "    self.codigo = codigo\n",
        "    self.saldo = 0\n",
        "  \n",
        "  def deposita(self, valor):\n",
        "    self.saldo += valor\n",
        "\n",
        "  def __str__(self):\n",
        "    return \"[>>codigo {} saldo {} <<]\".format(self.codigo, self.saldo)\n",
        "    "
      ],
      "metadata": {
        "id": "I8xT5mLTWN4K"
      },
      "execution_count": null,
      "outputs": []
    },
    {
      "cell_type": "code",
      "source": [
        "conta_do_diego = ContaCorrente(15)\n",
        "print(conta_do_diego)"
      ],
      "metadata": {
        "colab": {
          "base_uri": "https://localhost:8080/"
        },
        "id": "EfxFW2q9XX75",
        "outputId": "11ed6e08-9428-4598-9a00-b1f38e1b32a5"
      },
      "execution_count": null,
      "outputs": [
        {
          "output_type": "stream",
          "name": "stdout",
          "text": [
            "[>>codigo 15 saldo 0 <<]\n"
          ]
        }
      ]
    },
    {
      "cell_type": "code",
      "source": [
        "conta_do_diego.deposita(200)\n",
        "print(conta_do_diego)"
      ],
      "metadata": {
        "colab": {
          "base_uri": "https://localhost:8080/"
        },
        "id": "h-UXia_sYLqn",
        "outputId": "d60277c2-9822-4973-cf4e-7ee76d401f17"
      },
      "execution_count": null,
      "outputs": [
        {
          "output_type": "stream",
          "name": "stdout",
          "text": [
            "[>>codigo 15 saldo 200 <<]\n"
          ]
        }
      ]
    },
    {
      "cell_type": "code",
      "source": [
        "def deposita_para_todas(contas):\n",
        "  for conta in contas:\n",
        "    conta.deposita(100)\n",
        "\n",
        "contas = [conta_do_diego]\n",
        "print(contas[0])\n",
        "deposita_para_todas(contas)\n",
        "print(contas[0])"
      ],
      "metadata": {
        "colab": {
          "base_uri": "https://localhost:8080/"
        },
        "id": "f2Lp3pnxaHuO",
        "outputId": "9a4a8a7f-7335-4035-fb32-5a5275599ccf"
      },
      "execution_count": null,
      "outputs": [
        {
          "output_type": "stream",
          "name": "stdout",
          "text": [
            "[>>codigo 15 saldo 200 <<]\n",
            "[>>codigo 15 saldo 300 <<]\n"
          ]
        }
      ]
    },
    {
      "cell_type": "code",
      "source": [
        "contas.insert(0,76)\n",
        "print(contas[0])"
      ],
      "metadata": {
        "colab": {
          "base_uri": "https://localhost:8080/"
        },
        "id": "r-CobJVQfv9n",
        "outputId": "e2b26e20-334c-4135-ea81-248fddadd071"
      },
      "execution_count": null,
      "outputs": [
        {
          "output_type": "stream",
          "name": "stdout",
          "text": [
            "76\n"
          ]
        }
      ]
    },
    {
      "cell_type": "code",
      "source": [
        "diego = (\"Diego\" , 29 , 1993)"
      ],
      "metadata": {
        "id": "RFYZc7V8jsqC"
      },
      "execution_count": null,
      "outputs": []
    },
    {
      "cell_type": "code",
      "source": [
        "usuarios = [diego]\n",
        "usuarios"
      ],
      "metadata": {
        "colab": {
          "base_uri": "https://localhost:8080/"
        },
        "id": "dDp895ovj1Ki",
        "outputId": "50ffbabb-d41b-41a2-bb9a-74782863788c"
      },
      "execution_count": null,
      "outputs": [
        {
          "output_type": "execute_result",
          "data": {
            "text/plain": [
              "[('Diego', 29, 1993)]"
            ]
          },
          "metadata": {},
          "execution_count": 29
        }
      ]
    },
    {
      "cell_type": "code",
      "source": [
        "usuarios.append(('Rose', 30 , 1992))"
      ],
      "metadata": {
        "id": "WZtNSNAKkAHi"
      },
      "execution_count": null,
      "outputs": []
    },
    {
      "cell_type": "code",
      "source": [
        "usuarios"
      ],
      "metadata": {
        "colab": {
          "base_uri": "https://localhost:8080/"
        },
        "id": "JLx-2l1xkKvn",
        "outputId": "775c091c-9f8d-4ca3-c63f-e23cb5e551ad"
      },
      "execution_count": null,
      "outputs": [
        {
          "output_type": "execute_result",
          "data": {
            "text/plain": [
              "[('Diego', 29, 1993), ('Rose', 30, 1992)]"
            ]
          },
          "metadata": {},
          "execution_count": 31
        }
      ]
    },
    {
      "cell_type": "code",
      "source": [
        "usuarios [0]\n"
      ],
      "metadata": {
        "colab": {
          "base_uri": "https://localhost:8080/"
        },
        "id": "j43ZSvCskSL_",
        "outputId": "5608a896-226c-4a3c-8c43-23dc1652005a"
      },
      "execution_count": null,
      "outputs": [
        {
          "output_type": "execute_result",
          "data": {
            "text/plain": [
              "('Diego', 29, 1993)"
            ]
          },
          "metadata": {},
          "execution_count": 32
        }
      ]
    },
    {
      "cell_type": "markdown",
      "source": [
        "## **Herança e Polimorfismo**"
      ],
      "metadata": {
        "id": "QsEnOq6-qPCD"
      }
    },
    {
      "cell_type": "code",
      "source": [
        "from abc import ABCMeta, abstractmethod\n",
        "\n",
        "class Conta(metaclass=ABCMeta):\n",
        "\n",
        "  def __init__(self, codigo):\n",
        "    self._codigo = codigo\n",
        "    self._saldo = 0\n",
        "  \n",
        "  def deposita(self, valor):\n",
        "    self._saldo += valor\n",
        "\n",
        "  @abstractmethod  \n",
        "  def passa_o_mes(self):\n",
        "    pass\n",
        "  def __str__(self):\n",
        "    return \"[>>codigo {} saldo {} <<]\".format(self._codigo, self._saldo)\n",
        "    "
      ],
      "metadata": {
        "id": "ssr6ZJAMqxE1"
      },
      "execution_count": null,
      "outputs": []
    },
    {
      "cell_type": "code",
      "source": [
        "print(Conta(88))"
      ],
      "metadata": {
        "colab": {
          "base_uri": "https://localhost:8080/",
          "height": 165
        },
        "id": "3jYXYcMNsQHM",
        "outputId": "0628484e-4251-477a-e337-7b10bbeceb62"
      },
      "execution_count": null,
      "outputs": [
        {
          "output_type": "error",
          "ename": "TypeError",
          "evalue": "ignored",
          "traceback": [
            "\u001b[0;31m---------------------------------------------------------------------------\u001b[0m",
            "\u001b[0;31mTypeError\u001b[0m                                 Traceback (most recent call last)",
            "\u001b[0;32m<ipython-input-37-bcabbe50454b>\u001b[0m in \u001b[0;36m<module>\u001b[0;34m\u001b[0m\n\u001b[0;32m----> 1\u001b[0;31m \u001b[0mprint\u001b[0m\u001b[0;34m(\u001b[0m\u001b[0mConta\u001b[0m\u001b[0;34m(\u001b[0m\u001b[0;36m88\u001b[0m\u001b[0;34m)\u001b[0m\u001b[0;34m)\u001b[0m\u001b[0;34m\u001b[0m\u001b[0;34m\u001b[0m\u001b[0m\n\u001b[0m",
            "\u001b[0;31mTypeError\u001b[0m: Can't instantiate abstract class Conta with abstract methods passa_o_mes"
          ]
        }
      ]
    },
    {
      "cell_type": "code",
      "source": [
        "class ContaCorrente(Conta):\n",
        "\n",
        "  def passa_o_mes(self):\n",
        "    self._saldo -= 2\n",
        "\n",
        "class ContaPoupança(Conta):\n",
        "\n",
        "  def passa_o_mes(self):\n",
        "    self._saldo *= 1.01\n",
        "    self._saldo -= 3\n",
        "\n",
        "class ContaInvestimento(Conta):\n",
        "  pass"
      ],
      "metadata": {
        "id": "YuFtv_iDtLTR"
      },
      "execution_count": null,
      "outputs": []
    },
    {
      "cell_type": "code",
      "source": [
        "ContaInvestimento(764)"
      ],
      "metadata": {
        "colab": {
          "base_uri": "https://localhost:8080/"
        },
        "id": "ND_ri_X11cN3",
        "outputId": "a3182c15-c61c-4800-b95a-34a1c64981ca"
      },
      "execution_count": null,
      "outputs": [
        {
          "output_type": "execute_result",
          "data": {
            "text/plain": [
              "<__main__.ContaInvestimento at 0x7f33a4b67910>"
            ]
          },
          "metadata": {},
          "execution_count": 33
        }
      ]
    },
    {
      "cell_type": "code",
      "source": [
        "conta16 = ContaCorrente(16)\n",
        "conta16.deposita(1000)\n",
        "conta16.passa_o_mes()\n",
        "print(conta16)"
      ],
      "metadata": {
        "colab": {
          "base_uri": "https://localhost:8080/"
        },
        "id": "gZFlCns0t-at",
        "outputId": "91a76f68-fae3-465b-c584-0e943cac60fb"
      },
      "execution_count": null,
      "outputs": [
        {
          "output_type": "stream",
          "name": "stdout",
          "text": [
            "[>>codigo 16 saldo 998 <<]\n"
          ]
        }
      ]
    },
    {
      "cell_type": "code",
      "source": [
        "conta17 = ContaPoupança(17)\n",
        "conta17.deposita(1000)\n",
        "conta17.passa_o_mes()\n",
        "print(conta17)"
      ],
      "metadata": {
        "colab": {
          "base_uri": "https://localhost:8080/"
        },
        "id": "OxafsSPuui5j",
        "outputId": "dfdf7bfc-c802-4d85-8e8e-ad2a54e2f995"
      },
      "execution_count": null,
      "outputs": [
        {
          "output_type": "stream",
          "name": "stdout",
          "text": [
            "[>>codigo 17 saldo 1007.0 <<]\n"
          ]
        }
      ]
    },
    {
      "cell_type": "code",
      "source": [
        "conta16 = ContaCorrente(16)\n",
        "conta16.deposita(1000)\n",
        "conta17 = ContaPoupança(17)\n",
        "conta17.deposita(1000)\n",
        "contas = [conta16, conta17]\n",
        "\n",
        "for conta in contas:\n",
        "  conta.passa_o_mes()\n",
        "  print(conta)"
      ],
      "metadata": {
        "colab": {
          "base_uri": "https://localhost:8080/"
        },
        "id": "M_0QpriEuufF",
        "outputId": "afebf326-8c67-4721-c19d-e94f3bebe4de"
      },
      "execution_count": null,
      "outputs": [
        {
          "output_type": "stream",
          "name": "stdout",
          "text": [
            "[>>codigo 16 saldo 998 <<]\n",
            "[>>codigo 17 saldo 1007.0 <<]\n"
          ]
        }
      ]
    },
    {
      "cell_type": "markdown",
      "source": [
        "## **evitaremos usar o array puro, se precisamos de trabalho numerico, costume usar o numpy**\n"
      ],
      "metadata": {
        "id": "rv2W3hpaxCop"
      }
    },
    {
      "cell_type": "code",
      "source": [
        "import array as arr\n",
        "\n",
        "arr.array('d', [1, 3.5])"
      ],
      "metadata": {
        "colab": {
          "base_uri": "https://localhost:8080/"
        },
        "id": "Li7JFhI0vcyc",
        "outputId": "576b1d1f-bf0e-4793-ed07-da1e87527233"
      },
      "execution_count": null,
      "outputs": [
        {
          "output_type": "execute_result",
          "data": {
            "text/plain": [
              "array('d', [1.0, 3.5])"
            ]
          },
          "metadata": {},
          "execution_count": 24
        }
      ]
    },
    {
      "cell_type": "code",
      "source": [
        "pip install numpy"
      ],
      "metadata": {
        "colab": {
          "base_uri": "https://localhost:8080/"
        },
        "id": "ScwCNW1YyuJZ",
        "outputId": "49399a25-a789-46fa-84a7-1fa4697764ce"
      },
      "execution_count": null,
      "outputs": [
        {
          "output_type": "stream",
          "name": "stdout",
          "text": [
            "Looking in indexes: https://pypi.org/simple, https://us-python.pkg.dev/colab-wheels/public/simple/\n",
            "Requirement already satisfied: numpy in /usr/local/lib/python3.8/dist-packages (1.21.6)\n"
          ]
        }
      ]
    },
    {
      "cell_type": "code",
      "source": [
        "import numpy as np\n",
        "\n",
        "numeros = np.array([1, 3.5])\n",
        "numeros"
      ],
      "metadata": {
        "colab": {
          "base_uri": "https://localhost:8080/"
        },
        "id": "u2BDeTIvyd1_",
        "outputId": "6ae429bc-86bf-41e5-dba9-25bff2fed341"
      },
      "execution_count": null,
      "outputs": [
        {
          "output_type": "execute_result",
          "data": {
            "text/plain": [
              "array([1. , 3.5])"
            ]
          },
          "metadata": {},
          "execution_count": 29
        }
      ]
    },
    {
      "cell_type": "code",
      "source": [
        "numeros +3"
      ],
      "metadata": {
        "colab": {
          "base_uri": "https://localhost:8080/"
        },
        "id": "77iePc-xzH-c",
        "outputId": "352081a8-a7f9-4ccb-b069-4df33111bf0b"
      },
      "execution_count": null,
      "outputs": [
        {
          "output_type": "execute_result",
          "data": {
            "text/plain": [
              "array([4. , 6.5])"
            ]
          },
          "metadata": {},
          "execution_count": 31
        }
      ]
    },
    {
      "cell_type": "code",
      "source": [
        "class ContaSalario:\n",
        "\n",
        "  def __init__(self, codigo):\n",
        "    self._codigo = codigo\n",
        "    self._saldo = 0\n",
        "  \n",
        "  def deposita(self, valor):\n",
        "    self._saldo += valor\n",
        "\n",
        "  def __str__(self):\n",
        "    return \"[>>Codigo {} Saldo {}<<]\".format(self._codigo, self._saldo)"
      ],
      "metadata": {
        "id": "rO2XVMd-zgFl"
      },
      "execution_count": null,
      "outputs": []
    },
    {
      "cell_type": "code",
      "source": [
        "conta1 = ContaSalario(37)\n",
        "print(conta1)"
      ],
      "metadata": {
        "colab": {
          "base_uri": "https://localhost:8080/"
        },
        "id": "vWOv7UYc6ZwG",
        "outputId": "d6ec0da5-52dc-43a1-f18d-dc45f189c1db"
      },
      "execution_count": null,
      "outputs": [
        {
          "output_type": "stream",
          "name": "stdout",
          "text": [
            "[>>Codigo 37 Saldo 0<<]\n"
          ]
        }
      ]
    },
    {
      "cell_type": "code",
      "source": [
        "conta2 = ContaSalario(37)\n",
        "print(conta2)"
      ],
      "metadata": {
        "colab": {
          "base_uri": "https://localhost:8080/"
        },
        "id": "wq9Zf5GV6vmr",
        "outputId": "7091a031-d1d0-434f-98c1-a170669512cd"
      },
      "execution_count": null,
      "outputs": [
        {
          "output_type": "stream",
          "name": "stdout",
          "text": [
            "[>>Codigo 37 Saldo 0<<]\n"
          ]
        }
      ]
    },
    {
      "cell_type": "code",
      "source": [
        "conta1 == conta2"
      ],
      "metadata": {
        "colab": {
          "base_uri": "https://localhost:8080/"
        },
        "id": "jP9YzAFq7Rju",
        "outputId": "7ae7c25b-8173-451d-a5af-a5941d3210ba"
      },
      "execution_count": null,
      "outputs": [
        {
          "output_type": "execute_result",
          "data": {
            "text/plain": [
              "False"
            ]
          },
          "metadata": {},
          "execution_count": 46
        }
      ]
    },
    {
      "cell_type": "code",
      "source": [
        "contas = [conta1]\n",
        "conta1 in contas"
      ],
      "metadata": {
        "colab": {
          "base_uri": "https://localhost:8080/"
        },
        "id": "_Xo4B9GO7W0Z",
        "outputId": "83840736-e2dd-41bf-ead1-97d140cb2ed2"
      },
      "execution_count": null,
      "outputs": [
        {
          "output_type": "execute_result",
          "data": {
            "text/plain": [
              "True"
            ]
          },
          "metadata": {},
          "execution_count": 47
        }
      ]
    },
    {
      "cell_type": "code",
      "source": [
        "conta2 in contas"
      ],
      "metadata": {
        "colab": {
          "base_uri": "https://localhost:8080/"
        },
        "id": "9kf6u55l7fFW",
        "outputId": "d51c3158-a890-4e4f-d7e8-c9f2df5f6edc"
      },
      "execution_count": null,
      "outputs": [
        {
          "output_type": "execute_result",
          "data": {
            "text/plain": [
              "False"
            ]
          },
          "metadata": {},
          "execution_count": 48
        }
      ]
    },
    {
      "cell_type": "code",
      "source": [
        "class ContaSalario:\n",
        "\n",
        "  def __init__(self, codigo):\n",
        "    self._codigo = codigo\n",
        "    self._saldo = 0\n",
        "\n",
        "  def __eq__(self, outro):\n",
        "    return self._codigo == outro._codigo\n",
        "    \n",
        "  def deposita(self, valor):\n",
        "    self._saldo += valor\n",
        "\n",
        "  def __str__(self):\n",
        "    return \"[>>Codigo {} Saldo {}<<]\".format(self._codigo, self._saldo)"
      ],
      "metadata": {
        "id": "y53cZ7pA7iN0"
      },
      "execution_count": null,
      "outputs": []
    },
    {
      "cell_type": "code",
      "source": [
        "conta1 = ContaSalario(37)\n",
        "conta2 = ContaSalario(37)\n",
        "conta1 == conta2"
      ],
      "metadata": {
        "colab": {
          "base_uri": "https://localhost:8080/"
        },
        "id": "MAFv6VuD79Zt",
        "outputId": "e3bd3a7b-264f-482a-ef88-e52bfc227146"
      },
      "execution_count": null,
      "outputs": [
        {
          "output_type": "execute_result",
          "data": {
            "text/plain": [
              "True"
            ]
          },
          "metadata": {},
          "execution_count": 63
        }
      ]
    },
    {
      "cell_type": "code",
      "source": [
        "class ContaSalario:\n",
        "\n",
        "  def __init__(self, codigo):\n",
        "    self._codigo = codigo\n",
        "    self._saldo = 0\n",
        "\n",
        "  def __eq__(self, outro):\n",
        "    return self._codigo == outro._codigo and self._saldo == outro._saldo\n",
        "    \n",
        "  def deposita(self, valor):\n",
        "    self._saldo += valor\n",
        "\n",
        "  def __str__(self):\n",
        "    return \"[>>Codigo {} Saldo {}<<]\".format(self._codigo, self._saldo)"
      ],
      "metadata": {
        "id": "QZmaUtYI8K0f"
      },
      "execution_count": null,
      "outputs": []
    },
    {
      "cell_type": "code",
      "source": [
        "conta1 = ContaSalario(37)\n",
        "conta2 = ContaSalario(37)\n",
        "conta1 == conta2"
      ],
      "metadata": {
        "colab": {
          "base_uri": "https://localhost:8080/"
        },
        "id": "1zGxgrFt8gpp",
        "outputId": "42e1b715-48e4-4eb9-9e1f-f2cb9dc02241"
      },
      "execution_count": null,
      "outputs": [
        {
          "output_type": "execute_result",
          "data": {
            "text/plain": [
              "True"
            ]
          },
          "metadata": {},
          "execution_count": 67
        }
      ]
    },
    {
      "cell_type": "code",
      "source": [
        "conta1.deposita(10)"
      ],
      "metadata": {
        "id": "cXpLIjxp9D2V"
      },
      "execution_count": null,
      "outputs": []
    },
    {
      "cell_type": "code",
      "source": [
        "conta1 == conta2"
      ],
      "metadata": {
        "colab": {
          "base_uri": "https://localhost:8080/"
        },
        "id": "Hdp5uXc29qhC",
        "outputId": "4d4dcad4-a289-4763-b637-d069bf8c6f8b"
      },
      "execution_count": null,
      "outputs": [
        {
          "output_type": "execute_result",
          "data": {
            "text/plain": [
              "False"
            ]
          },
          "metadata": {},
          "execution_count": 69
        }
      ]
    },
    {
      "cell_type": "code",
      "source": [
        "class ContaSalario:\n",
        "\n",
        "  def __init__(self, codigo):\n",
        "    self._codigo = codigo\n",
        "    self._saldo = 0\n",
        "\n",
        "  def __eq__(self, outro):\n",
        "    if type(outro) != ContaSalario:\n",
        "      return false\n",
        "\n",
        "    return self._codigo == outro._codigo and self._saldo == outro._saldo\n",
        "    \n",
        "  def deposita(self, valor):\n",
        "    self._saldo += valor\n",
        "\n",
        "  def __str__(self):\n",
        "    return \"[>>Codigo {} Saldo {}<<]\".format(self._codigo, self._saldo)"
      ],
      "metadata": {
        "id": "iMcjje5I83VK"
      },
      "execution_count": null,
      "outputs": []
    },
    {
      "cell_type": "code",
      "source": [
        "conta1 = ContaSalario(37)\n",
        "conta2 = ContaCorrente(37)"
      ],
      "metadata": {
        "id": "rNgemFHt_bZ2"
      },
      "execution_count": null,
      "outputs": []
    },
    {
      "cell_type": "code",
      "source": [
        "conta1 == conta2"
      ],
      "metadata": {
        "colab": {
          "base_uri": "https://localhost:8080/"
        },
        "id": "3tvwpJZ592CR",
        "outputId": "94c4f052-7f74-4cda-e475-8f8180d48724"
      },
      "execution_count": null,
      "outputs": [
        {
          "output_type": "execute_result",
          "data": {
            "text/plain": [
              "False"
            ]
          },
          "metadata": {},
          "execution_count": 91
        }
      ]
    },
    {
      "cell_type": "code",
      "source": [
        "isinstance(ContaCorrente(34), ContaCorrente)"
      ],
      "metadata": {
        "colab": {
          "base_uri": "https://localhost:8080/"
        },
        "id": "AUhajRdZA4zs",
        "outputId": "79e7d481-0f79-4cba-a486-aeed1403d326"
      },
      "execution_count": null,
      "outputs": [
        {
          "output_type": "execute_result",
          "data": {
            "text/plain": [
              "True"
            ]
          },
          "metadata": {},
          "execution_count": 87
        }
      ]
    },
    {
      "cell_type": "code",
      "source": [
        "isinstance(ContaCorrente(34), Conta)"
      ],
      "metadata": {
        "colab": {
          "base_uri": "https://localhost:8080/"
        },
        "id": "4o7DYqPFA7W-",
        "outputId": "1084660a-73fd-40bf-f650-a4e72ba258ae"
      },
      "execution_count": null,
      "outputs": [
        {
          "output_type": "execute_result",
          "data": {
            "text/plain": [
              "False"
            ]
          },
          "metadata": {},
          "execution_count": 96
        }
      ]
    },
    {
      "cell_type": "code",
      "source": [
        "idades = [15,87,32,65,56,32,49,37]\n",
        "\n",
        "for i in range(len(idades)):\n",
        "  print(i, idades[i])"
      ],
      "metadata": {
        "colab": {
          "base_uri": "https://localhost:8080/"
        },
        "id": "-3cY7GxfGTDM",
        "outputId": "43ba4b1a-c5bf-47ba-dde9-257bbaf7f8d6"
      },
      "execution_count": 3,
      "outputs": [
        {
          "output_type": "stream",
          "name": "stdout",
          "text": [
            "0 15\n",
            "1 87\n",
            "2 32\n",
            "3 65\n",
            "4 56\n",
            "5 32\n",
            "6 49\n",
            "7 37\n"
          ]
        }
      ]
    },
    {
      "cell_type": "code",
      "source": [
        "list(enumerate(idades))"
      ],
      "metadata": {
        "colab": {
          "base_uri": "https://localhost:8080/"
        },
        "id": "7kwlOkrXG3lK",
        "outputId": "940a4d87-818c-4ca2-e238-025c06259987"
      },
      "execution_count": 4,
      "outputs": [
        {
          "output_type": "execute_result",
          "data": {
            "text/plain": [
              "[(0, 15), (1, 87), (2, 32), (3, 65), (4, 56), (5, 32), (6, 49), (7, 37)]"
            ]
          },
          "metadata": {},
          "execution_count": 4
        }
      ]
    },
    {
      "cell_type": "code",
      "source": [
        "for indice, idade in enumerate(idades):\n",
        "  print(indice, idade)"
      ],
      "metadata": {
        "colab": {
          "base_uri": "https://localhost:8080/"
        },
        "id": "io5dy62mJAlo",
        "outputId": "82cd8428-c877-4a39-cfc8-50d8cf06b7a2"
      },
      "execution_count": 5,
      "outputs": [
        {
          "output_type": "stream",
          "name": "stdout",
          "text": [
            "0 15\n",
            "1 87\n",
            "2 32\n",
            "3 65\n",
            "4 56\n",
            "5 32\n",
            "6 49\n",
            "7 37\n"
          ]
        }
      ]
    },
    {
      "cell_type": "code",
      "source": [
        "usuarios = [\n",
        "    (\"Diego\", 29 , 1993),\n",
        "    (\"Rose\", 30, 1992)\n",
        "]\n",
        "for usuario in usuarios:\n",
        "  print(usuario)"
      ],
      "metadata": {
        "colab": {
          "base_uri": "https://localhost:8080/"
        },
        "id": "wYrelWbAJKV7",
        "outputId": "f8802f08-3dd6-4fab-ef21-bf91470f1106"
      },
      "execution_count": 6,
      "outputs": [
        {
          "output_type": "stream",
          "name": "stdout",
          "text": [
            "('Diego', 29, 1993)\n",
            "('Rose', 30, 1992)\n"
          ]
        }
      ]
    },
    {
      "cell_type": "code",
      "source": [
        "idades\n"
      ],
      "metadata": {
        "colab": {
          "base_uri": "https://localhost:8080/"
        },
        "id": "NbPV5Qs1M1GE",
        "outputId": "77c62d06-3226-4709-802b-073a7d470c70"
      },
      "execution_count": 7,
      "outputs": [
        {
          "output_type": "execute_result",
          "data": {
            "text/plain": [
              "[15, 87, 32, 65, 56, 32, 49, 37]"
            ]
          },
          "metadata": {},
          "execution_count": 7
        }
      ]
    },
    {
      "cell_type": "code",
      "source": [
        "sorted(idades)\n"
      ],
      "metadata": {
        "colab": {
          "base_uri": "https://localhost:8080/"
        },
        "id": "4x1DEz51M9_C",
        "outputId": "9d21a117-ca20-4903-d519-232ae54e0e79"
      },
      "execution_count": 8,
      "outputs": [
        {
          "output_type": "execute_result",
          "data": {
            "text/plain": [
              "[15, 32, 32, 37, 49, 56, 65, 87]"
            ]
          },
          "metadata": {},
          "execution_count": 8
        }
      ]
    },
    {
      "cell_type": "code",
      "source": [
        "list(reversed(idades))"
      ],
      "metadata": {
        "colab": {
          "base_uri": "https://localhost:8080/"
        },
        "id": "6nrLUnn4NFBD",
        "outputId": "63d0a4b0-5cfa-4d10-c6c6-d4dd4c836d2a"
      },
      "execution_count": 9,
      "outputs": [
        {
          "output_type": "execute_result",
          "data": {
            "text/plain": [
              "[37, 49, 32, 56, 65, 32, 87, 15]"
            ]
          },
          "metadata": {},
          "execution_count": 9
        }
      ]
    },
    {
      "cell_type": "code",
      "source": [
        "sorted(idades, reverse=True)"
      ],
      "metadata": {
        "colab": {
          "base_uri": "https://localhost:8080/"
        },
        "id": "zoziQKIlNYic",
        "outputId": "5700aeb3-b8ee-46d7-c184-36009c3215e5"
      },
      "execution_count": 10,
      "outputs": [
        {
          "output_type": "execute_result",
          "data": {
            "text/plain": [
              "[87, 65, 56, 49, 37, 32, 32, 15]"
            ]
          },
          "metadata": {},
          "execution_count": 10
        }
      ]
    },
    {
      "cell_type": "code",
      "source": [
        "idades"
      ],
      "metadata": {
        "colab": {
          "base_uri": "https://localhost:8080/"
        },
        "id": "SFyCK8Oo__T2",
        "outputId": "4c7ae896-b94c-4f3b-a3da-9a16e9dfced2"
      },
      "execution_count": 11,
      "outputs": [
        {
          "output_type": "execute_result",
          "data": {
            "text/plain": [
              "[15, 87, 32, 65, 56, 32, 49, 37]"
            ]
          },
          "metadata": {},
          "execution_count": 11
        }
      ]
    },
    {
      "cell_type": "code",
      "source": [
        "idades.sort()"
      ],
      "metadata": {
        "id": "9V2cgulGBpsJ"
      },
      "execution_count": 12,
      "outputs": []
    },
    {
      "cell_type": "code",
      "source": [
        "idades"
      ],
      "metadata": {
        "colab": {
          "base_uri": "https://localhost:8080/"
        },
        "id": "1dsOo0MsBuya",
        "outputId": "e5f7832b-1d65-4512-ebea-1ee704c71ce4"
      },
      "execution_count": 13,
      "outputs": [
        {
          "output_type": "execute_result",
          "data": {
            "text/plain": [
              "[15, 32, 32, 37, 49, 56, 65, 87]"
            ]
          },
          "metadata": {},
          "execution_count": 13
        }
      ]
    },
    {
      "cell_type": "code",
      "source": [
        "15<32"
      ],
      "metadata": {
        "colab": {
          "base_uri": "https://localhost:8080/"
        },
        "id": "Q-ainjt0ByfK",
        "outputId": "14347382-3098-4678-fa34-be063418f064"
      },
      "execution_count": 14,
      "outputs": [
        {
          "output_type": "execute_result",
          "data": {
            "text/plain": [
              "True"
            ]
          },
          "metadata": {},
          "execution_count": 14
        }
      ]
    },
    {
      "cell_type": "code",
      "source": [
        "nomes = [\"Diego\", \"Rose\", \"kiki\"]\n",
        "sorted(nomes)"
      ],
      "metadata": {
        "colab": {
          "base_uri": "https://localhost:8080/"
        },
        "id": "ZtERRZb1B1oA",
        "outputId": "87d0a038-0295-4831-a3d7-163e7326cdd5"
      },
      "execution_count": 16,
      "outputs": [
        {
          "output_type": "execute_result",
          "data": {
            "text/plain": [
              "['Diego', 'Rose', 'kiki']"
            ]
          },
          "metadata": {},
          "execution_count": 16
        }
      ]
    },
    {
      "cell_type": "code",
      "source": [
        "class ContaSalario:\n",
        "\n",
        "  def __init__(self, codigo):\n",
        "    self._codigo = codigo\n",
        "    self._saldo = 0\n",
        "\n",
        "  def __eq__(self, outro):\n",
        "    if type(outro) != ContaSalario:\n",
        "      return False\n",
        "\n",
        "    return self._codigo == outro._codigo and self._saldo == outro._saldo\n",
        "    \n",
        "  def deposita(self, valor):\n",
        "    self._saldo += valor\n",
        "\n",
        "  def __str__(self):\n",
        "    return \"[>>Codigo {} Saldo {}<<]\".format(self._codigo, self._saldo)"
      ],
      "metadata": {
        "id": "Yv8TPmdxDnH3"
      },
      "execution_count": 17,
      "outputs": []
    },
    {
      "cell_type": "code",
      "source": [
        "conta_do_diego = ContaSalario(17)\n",
        "conta_do_diego.deposita(500)\n",
        "\n",
        "conta_da_rose = ContaSalario(3)\n",
        "conta_da_rose.deposita(1000)\n",
        "\n",
        "contas = [conta_do_diego, conta_da_rose]"
      ],
      "metadata": {
        "id": "XTz_Xl12DnNf"
      },
      "execution_count": 19,
      "outputs": []
    },
    {
      "cell_type": "code",
      "source": [
        "for conta in contas:\n",
        "  print(conta)"
      ],
      "metadata": {
        "colab": {
          "base_uri": "https://localhost:8080/"
        },
        "id": "wuh-x-mqEgU7",
        "outputId": "a701a590-d5c7-4854-c42a-3cf908d198db"
      },
      "execution_count": 20,
      "outputs": [
        {
          "output_type": "stream",
          "name": "stdout",
          "text": [
            "[>>Codigo 17 Saldo 500<<]\n",
            "[>>Codigo 3 Saldo 1000<<]\n"
          ]
        }
      ]
    },
    {
      "cell_type": "code",
      "source": [
        "sorted(contas)"
      ],
      "metadata": {
        "colab": {
          "base_uri": "https://localhost:8080/",
          "height": 165
        },
        "id": "PMY5yLDjEtkM",
        "outputId": "c4996c0b-a71a-4a53-c578-d1945cd7c62b"
      },
      "execution_count": 21,
      "outputs": [
        {
          "output_type": "error",
          "ename": "TypeError",
          "evalue": "ignored",
          "traceback": [
            "\u001b[0;31m---------------------------------------------------------------------------\u001b[0m",
            "\u001b[0;31mTypeError\u001b[0m                                 Traceback (most recent call last)",
            "\u001b[0;32m<ipython-input-21-df7230969aa4>\u001b[0m in \u001b[0;36m<module>\u001b[0;34m\u001b[0m\n\u001b[0;32m----> 1\u001b[0;31m \u001b[0msorted\u001b[0m\u001b[0;34m(\u001b[0m\u001b[0mcontas\u001b[0m\u001b[0;34m)\u001b[0m\u001b[0;34m\u001b[0m\u001b[0;34m\u001b[0m\u001b[0m\n\u001b[0m",
            "\u001b[0;31mTypeError\u001b[0m: '<' not supported between instances of 'ContaSalario' and 'ContaSalario'"
          ]
        }
      ]
    },
    {
      "cell_type": "code",
      "source": [
        "def extrai_saldo(conta):\n",
        "  return conta._saldo\n",
        "\n",
        "for conta in sorted(contas, key=extrai_saldo):\n",
        "  print(conta)"
      ],
      "metadata": {
        "colab": {
          "base_uri": "https://localhost:8080/"
        },
        "id": "sKp5Ph7HExF_",
        "outputId": "c077a1f9-dcfc-4223-863b-5d57f1ec1d9a"
      },
      "execution_count": 25,
      "outputs": [
        {
          "output_type": "stream",
          "name": "stdout",
          "text": [
            "[>>Codigo 17 Saldo 500<<]\n",
            "[>>Codigo 3 Saldo 1000<<]\n"
          ]
        }
      ]
    },
    {
      "cell_type": "code",
      "source": [
        "from operator import attrgetter\n",
        "\n",
        "for conta in sorted(contas, key=attrgetter(\"_saldo\")):\n",
        "  print(conta)"
      ],
      "metadata": {
        "colab": {
          "base_uri": "https://localhost:8080/"
        },
        "id": "u6rq5TcKGXi-",
        "outputId": "8d4df0f4-e975-4300-9411-0859fd0ceecd"
      },
      "execution_count": 26,
      "outputs": [
        {
          "output_type": "stream",
          "name": "stdout",
          "text": [
            "[>>Codigo 17 Saldo 500<<]\n",
            "[>>Codigo 3 Saldo 1000<<]\n"
          ]
        }
      ]
    },
    {
      "cell_type": "code",
      "source": [
        "class ContaSalario:\n",
        "\n",
        "  def __init__(self, codigo):\n",
        "    self._codigo = codigo\n",
        "    self._saldo = 0\n",
        "\n",
        "  def __eq__(self, outro):\n",
        "    if type(outro) != ContaSalario:\n",
        "      return False\n",
        "\n",
        "    return self._codigo == outro._codigo and self._saldo == outro._saldo\n",
        "\n",
        "  def __lt__(self, outro):\n",
        "    return self._saldo < outro._saldo\n",
        "\n",
        "\n",
        "  def deposita(self, valor):\n",
        "    self._saldo += valor\n",
        "\n",
        "  def __str__(self):\n",
        "    return \"[>>Codigo {} Saldo {}<<]\".format(self._codigo, self._saldo)"
      ],
      "metadata": {
        "id": "isCgeKezHn1g"
      },
      "execution_count": 30,
      "outputs": []
    },
    {
      "cell_type": "code",
      "source": [
        "conta_do_diego = ContaSalario(17)\n",
        "conta_do_diego.deposita(500)\n",
        "\n",
        "conta_da_rose = ContaSalario(3)\n",
        "conta_da_rose.deposita(1000)\n",
        "\n",
        "contas = [conta_do_diego, conta_da_rose]"
      ],
      "metadata": {
        "id": "88NP2ReLIL9G"
      },
      "execution_count": 32,
      "outputs": []
    },
    {
      "cell_type": "code",
      "source": [
        "conta_do_diego < conta_da_rose"
      ],
      "metadata": {
        "colab": {
          "base_uri": "https://localhost:8080/"
        },
        "id": "dUvGuVx2IRgQ",
        "outputId": "641f8e19-63ac-4138-9dc4-3c2ab8854e89"
      },
      "execution_count": 33,
      "outputs": [
        {
          "output_type": "execute_result",
          "data": {
            "text/plain": [
              "True"
            ]
          },
          "metadata": {},
          "execution_count": 33
        }
      ]
    },
    {
      "cell_type": "code",
      "source": [
        "conta_do_diego > conta_da_rose"
      ],
      "metadata": {
        "colab": {
          "base_uri": "https://localhost:8080/"
        },
        "id": "oLC7RA4CIkc5",
        "outputId": "763db28b-c4d1-410b-d729-9ec38514d8b5"
      },
      "execution_count": 34,
      "outputs": [
        {
          "output_type": "execute_result",
          "data": {
            "text/plain": [
              "False"
            ]
          },
          "metadata": {},
          "execution_count": 34
        }
      ]
    },
    {
      "cell_type": "code",
      "source": [
        "for conta in sorted(contas):\n",
        "  print(conta)"
      ],
      "metadata": {
        "colab": {
          "base_uri": "https://localhost:8080/"
        },
        "id": "G84HyD2dItEO",
        "outputId": "8422a783-ef48-4227-c5ed-ca6a319d863f"
      },
      "execution_count": 38,
      "outputs": [
        {
          "output_type": "stream",
          "name": "stdout",
          "text": [
            "[>>Codigo 17 Saldo 500<<]\n",
            "[>>Codigo 3 Saldo 1000<<]\n"
          ]
        }
      ]
    },
    {
      "cell_type": "code",
      "source": [
        "for conta in sorted(contas,reverse=True):\n",
        "  print(conta)"
      ],
      "metadata": {
        "colab": {
          "base_uri": "https://localhost:8080/"
        },
        "id": "8zGp6o-9JHiC",
        "outputId": "fd280fc5-856b-4eab-fb11-69b0980a3230"
      },
      "execution_count": 39,
      "outputs": [
        {
          "output_type": "stream",
          "name": "stdout",
          "text": [
            "[>>Codigo 3 Saldo 1000<<]\n",
            "[>>Codigo 17 Saldo 500<<]\n"
          ]
        }
      ]
    },
    {
      "cell_type": "code",
      "source": [
        "conta_do_diego = ContaSalario(1700)\n",
        "conta_do_diego.deposita(500)\n",
        "\n",
        "conta_da_rose = ContaSalario(3)\n",
        "conta_da_rose.deposita(1000)\n",
        "\n",
        "conta_do_kiki = ContaSalario(133)\n",
        "conta_do_kiki.deposita(500)\n",
        "\n",
        "contas = [conta_do_diego, conta_da_rose,conta_do_kiki]"
      ],
      "metadata": {
        "id": "ypBnauYWKh1L"
      },
      "execution_count": 40,
      "outputs": []
    },
    {
      "cell_type": "code",
      "source": [
        "for conta in sorted(contas, key=attrgetter(\"_saldo\", \"_codigo\")):\n",
        "  print(conta)"
      ],
      "metadata": {
        "colab": {
          "base_uri": "https://localhost:8080/"
        },
        "id": "WIkYjK4sLIXG",
        "outputId": "5ad4d5c1-96c9-42dd-abd5-8993b4fc576c"
      },
      "execution_count": 41,
      "outputs": [
        {
          "output_type": "stream",
          "name": "stdout",
          "text": [
            "[>>Codigo 133 Saldo 500<<]\n",
            "[>>Codigo 1700 Saldo 500<<]\n",
            "[>>Codigo 3 Saldo 1000<<]\n"
          ]
        }
      ]
    },
    {
      "cell_type": "code",
      "source": [
        "conta_do_diego = ContaSalario(1700)\n",
        "conta_do_diego.deposita(500)\n",
        "\n",
        "conta_da_rose = ContaSalario(3)\n",
        "conta_da_rose.deposita(500)\n",
        "\n",
        "conta_do_kiki = ContaSalario(133)\n",
        "conta_do_kiki.deposita(500)\n",
        "\n",
        "contas = [conta_do_diego, conta_da_rose,conta_do_kiki]"
      ],
      "metadata": {
        "id": "-qtYCPvxL0_g"
      },
      "execution_count": 42,
      "outputs": []
    },
    {
      "cell_type": "code",
      "source": [
        "for conta in sorted(contas, key=attrgetter(\"_saldo\", \"_codigo\")):\n",
        "  print(conta)"
      ],
      "metadata": {
        "colab": {
          "base_uri": "https://localhost:8080/"
        },
        "id": "l7RZJ9esL6AD",
        "outputId": "c5b92c42-9c43-46fc-fd11-82024c9c7e61"
      },
      "execution_count": 43,
      "outputs": [
        {
          "output_type": "stream",
          "name": "stdout",
          "text": [
            "[>>Codigo 3 Saldo 500<<]\n",
            "[>>Codigo 133 Saldo 500<<]\n",
            "[>>Codigo 1700 Saldo 500<<]\n"
          ]
        }
      ]
    },
    {
      "cell_type": "code",
      "source": [
        "class ContaSalario:\n",
        "\n",
        "  def __init__(self, codigo):\n",
        "    self._codigo = codigo\n",
        "    self._saldo = 0\n",
        "\n",
        "  def __eq__(self, outro):\n",
        "    if type(outro) != ContaSalario:\n",
        "      return False\n",
        "\n",
        "    return self._codigo == outro._codigo and self._saldo == outro._saldo\n",
        "\n",
        "  def __lt__(self, outro):\n",
        "    if self._saldo != outro._saldo:\n",
        "      return self._saldo < outro._saldo\n",
        "\n",
        "    return self._codigo < outro._codigo\n",
        "\n",
        "  def deposita(self, valor):\n",
        "    self._saldo += valor\n",
        "\n",
        "  def __str__(self):\n",
        "    return \"[>>Codigo {} Saldo {}<<]\".format(self._codigo, self._saldo)"
      ],
      "metadata": {
        "id": "RJ6WTFe3MIl2"
      },
      "execution_count": 50,
      "outputs": []
    },
    {
      "cell_type": "code",
      "source": [
        "conta_do_diego = ContaSalario(1700)\n",
        "conta_do_diego.deposita(500)\n",
        "\n",
        "conta_da_rose = ContaSalario(3)\n",
        "conta_da_rose.deposita(500)\n",
        "\n",
        "conta_do_kiki = ContaSalario(133)\n",
        "conta_do_kiki.deposita(500)\n",
        "\n",
        "contas = [conta_do_diego, conta_da_rose,conta_do_kiki]"
      ],
      "metadata": {
        "id": "koGPSlU0MxSL"
      },
      "execution_count": 51,
      "outputs": []
    },
    {
      "cell_type": "code",
      "source": [
        "for conta in sorted(contas):\n",
        "  print(conta)"
      ],
      "metadata": {
        "colab": {
          "base_uri": "https://localhost:8080/"
        },
        "id": "3X7ISY-4Mz99",
        "outputId": "e5847963-3182-4d48-f8db-70f87e49e65a"
      },
      "execution_count": 52,
      "outputs": [
        {
          "output_type": "stream",
          "name": "stdout",
          "text": [
            "[>>Codigo 3 Saldo 500<<]\n",
            "[>>Codigo 133 Saldo 500<<]\n",
            "[>>Codigo 1700 Saldo 500<<]\n"
          ]
        }
      ]
    },
    {
      "cell_type": "code",
      "source": [
        "conta_do_diego = ContaSalario(1700)\n",
        "conta_do_diego.deposita(500)\n",
        "\n",
        "conta_da_rose = ContaSalario(3)\n",
        "conta_da_rose.deposita(1000)\n",
        "\n",
        "conta_do_kiki = ContaSalario(133)\n",
        "conta_do_kiki.deposita(500)\n",
        "\n",
        "contas = [conta_do_diego, conta_da_rose,conta_do_kiki]"
      ],
      "metadata": {
        "id": "pzPGByIaNYAk"
      },
      "execution_count": 53,
      "outputs": []
    },
    {
      "cell_type": "code",
      "source": [
        "for conta in sorted(contas):\n",
        "  print(conta)"
      ],
      "metadata": {
        "colab": {
          "base_uri": "https://localhost:8080/"
        },
        "id": "GVmXHyGLNiX8",
        "outputId": "fd43351a-f696-486f-ef20-e288fe99e158"
      },
      "execution_count": 54,
      "outputs": [
        {
          "output_type": "stream",
          "name": "stdout",
          "text": [
            "[>>Codigo 133 Saldo 500<<]\n",
            "[>>Codigo 1700 Saldo 500<<]\n",
            "[>>Codigo 3 Saldo 1000<<]\n"
          ]
        }
      ]
    },
    {
      "cell_type": "code",
      "source": [
        "from functools import total_ordering\n",
        "\n",
        "@total_ordering\n",
        "class ContaSalario:\n",
        "\n",
        "  def __init__(self, codigo):\n",
        "    self._codigo = codigo\n",
        "    self._saldo = 0\n",
        "\n",
        "  def __eq__(self, outro):\n",
        "    if type(outro) != ContaSalario:\n",
        "      return False\n",
        "\n",
        "    return self._codigo == outro._codigo and self._saldo == outro._saldo\n",
        "\n",
        "  def __lt__(self, outro):\n",
        "    if self._saldo != outro._saldo:\n",
        "      return self._saldo < outro._saldo\n",
        "\n",
        "    return self._codigo < outro._codigo\n",
        "\n",
        "  def deposita(self, valor):\n",
        "    self._saldo += valor\n",
        "\n",
        "  def __str__(self):\n",
        "    return \"[>>Codigo {} Saldo {}<<]\".format(self._codigo, self._saldo)"
      ],
      "metadata": {
        "id": "ZWoEmnMNNihG"
      },
      "execution_count": 64,
      "outputs": []
    },
    {
      "cell_type": "code",
      "source": [
        "conta_do_diego = ContaSalario(1700)\n",
        "conta_do_diego.deposita(500)\n",
        "\n",
        "conta_da_rose = ContaSalario(3)\n",
        "conta_da_rose.deposita(1000)\n",
        "\n",
        "conta_do_kiki = ContaSalario(133)\n",
        "conta_do_kiki.deposita(500)\n",
        "\n",
        "contas = [conta_do_diego, conta_da_rose,conta_do_kiki]"
      ],
      "metadata": {
        "id": "5nmSS3QzOpGA"
      },
      "execution_count": 65,
      "outputs": []
    },
    {
      "cell_type": "code",
      "source": [
        "conta_do_diego <= conta_da_rose"
      ],
      "metadata": {
        "colab": {
          "base_uri": "https://localhost:8080/"
        },
        "id": "4HCqBGRhO8eS",
        "outputId": "955aa287-662c-4ddd-be73-8a337016891b"
      },
      "execution_count": 66,
      "outputs": [
        {
          "output_type": "execute_result",
          "data": {
            "text/plain": [
              "True"
            ]
          },
          "metadata": {},
          "execution_count": 66
        }
      ]
    },
    {
      "cell_type": "code",
      "source": [
        "conta_do_diego <= conta_do_kiki"
      ],
      "metadata": {
        "colab": {
          "base_uri": "https://localhost:8080/"
        },
        "id": "2_WD7BFsPdZO",
        "outputId": "567777ae-fd36-40d7-b037-d1c79f51de40"
      },
      "execution_count": 67,
      "outputs": [
        {
          "output_type": "execute_result",
          "data": {
            "text/plain": [
              "False"
            ]
          },
          "metadata": {},
          "execution_count": 67
        }
      ]
    }
  ]
}